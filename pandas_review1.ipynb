{
  "nbformat": 4,
  "nbformat_minor": 0,
  "metadata": {
    "colab": {
      "name": "pandas_review1",
      "provenance": [],
      "authorship_tag": "ABX9TyOXhhBz5u9jBh91IPE59VQW"
    },
    "kernelspec": {
      "name": "python3",
      "display_name": "Python 3"
    }
  },
  "cells": [
    {
      "cell_type": "code",
      "metadata": {
        "id": "7iJ0wFIF8wbF",
        "colab_type": "code",
        "colab": {}
      },
      "source": [
        "import pandas as pd\n",
        "import numpy as np\n",
        "import io"
      ],
      "execution_count": 0,
      "outputs": []
    },
    {
      "cell_type": "code",
      "metadata": {
        "id": "Ba2g3TQQ8_9A",
        "colab_type": "code",
        "colab": {}
      },
      "source": [
        "data = pd.DataFrame({\n",
        "    'id': np.arange(101, 111),\n",
        "    'date': pd.date_range(start = '20200310', periods = 10),\n",
        "    'money': [5, 4, 65, -10, 15, 20, 35, 16, 6, 20],\n",
        "    'department': ['饮料', '饮料', '零食', '调味品', '水果', 'nan', '日用品', '蔬菜', '日用品', '零食'],\n",
        "    'product': ['苏打水', '可乐', '牛肉干', '老干妈', '菠萝', '冰激凌', '洗面奶', '洋葱','牙膏','薯片'],\n",
        "    'origin': ['China','China','US','China','Thailand','China','us','China','China','Japan']\n",
        "})"
      ],
      "execution_count": 0,
      "outputs": []
    },
    {
      "cell_type": "code",
      "metadata": {
        "id": "pwvBdJVg9AGT",
        "colab_type": "code",
        "colab": {}
      },
      "source": [
        "data.to_csv(\"shopping.csv\",index=False)"
      ],
      "execution_count": 0,
      "outputs": []
    },
    {
      "cell_type": "code",
      "metadata": {
        "id": "WF1Ah9h_9AJJ",
        "colab_type": "code",
        "colab": {}
      },
      "source": [
        "data = pd.read_csv('shopping.csv')"
      ],
      "execution_count": 0,
      "outputs": []
    },
    {
      "cell_type": "code",
      "metadata": {
        "id": "36SsZrasawaI",
        "colab_type": "code",
        "colab": {
          "base_uri": "https://localhost:8080/",
          "height": 190
        },
        "outputId": "8f17096e-23bd-4286-b0da-fd288284ad0c"
      },
      "source": [
        "data.shape               #行数列数\n",
        "data.dtypes              #所有列的数据类型\n",
        "data['id'].dtypes        #某一列的数据类型\n",
        "data.ndim                #数据维度\n",
        "data.index               #行索引\n",
        "data.columns             #列索引\n",
        "data.values              #对象值"
      ],
      "execution_count": 5,
      "outputs": [
        {
          "output_type": "execute_result",
          "data": {
            "text/plain": [
              "array([[101, '2020-03-10', 5, '饮料', '苏打水', 'China'],\n",
              "       [102, '2020-03-11', 4, '饮料', '可乐', 'China'],\n",
              "       [103, '2020-03-12', 65, '零食', '牛肉干', 'US'],\n",
              "       [104, '2020-03-13', -10, '调味品', '老干妈', 'China'],\n",
              "       [105, '2020-03-14', 15, '水果', '菠萝', 'Thailand'],\n",
              "       [106, '2020-03-15', 20, nan, '冰激凌', 'China'],\n",
              "       [107, '2020-03-16', 35, '日用品', '洗面奶', 'us'],\n",
              "       [108, '2020-03-17', 16, '蔬菜', '洋葱', 'China'],\n",
              "       [109, '2020-03-18', 6, '日用品', '牙膏', 'China'],\n",
              "       [110, '2020-03-19', 20, '零食', '薯片', 'Japan']], dtype=object)"
            ]
          },
          "metadata": {
            "tags": []
          },
          "execution_count": 5
        }
      ]
    },
    {
      "cell_type": "code",
      "metadata": {
        "id": "FgpPMpokawdf",
        "colab_type": "code",
        "colab": {
          "base_uri": "https://localhost:8080/",
          "height": 519
        },
        "outputId": "cc21b8ab-6241-4573-8204-11f742d2bea5"
      },
      "source": [
        "data.head() \n",
        "data.tail()\n",
        "data.info()\n",
        "data.describe()"
      ],
      "execution_count": 6,
      "outputs": [
        {
          "output_type": "stream",
          "text": [
            "<class 'pandas.core.frame.DataFrame'>\n",
            "RangeIndex: 10 entries, 0 to 9\n",
            "Data columns (total 6 columns):\n",
            " #   Column      Non-Null Count  Dtype \n",
            "---  ------      --------------  ----- \n",
            " 0   id          10 non-null     int64 \n",
            " 1   date        10 non-null     object\n",
            " 2   money       10 non-null     int64 \n",
            " 3   department  9 non-null      object\n",
            " 4   product     10 non-null     object\n",
            " 5   origin      10 non-null     object\n",
            "dtypes: int64(2), object(4)\n",
            "memory usage: 608.0+ bytes\n"
          ],
          "name": "stdout"
        },
        {
          "output_type": "execute_result",
          "data": {
            "text/html": [
              "<div>\n",
              "<style scoped>\n",
              "    .dataframe tbody tr th:only-of-type {\n",
              "        vertical-align: middle;\n",
              "    }\n",
              "\n",
              "    .dataframe tbody tr th {\n",
              "        vertical-align: top;\n",
              "    }\n",
              "\n",
              "    .dataframe thead th {\n",
              "        text-align: right;\n",
              "    }\n",
              "</style>\n",
              "<table border=\"1\" class=\"dataframe\">\n",
              "  <thead>\n",
              "    <tr style=\"text-align: right;\">\n",
              "      <th></th>\n",
              "      <th>id</th>\n",
              "      <th>money</th>\n",
              "    </tr>\n",
              "  </thead>\n",
              "  <tbody>\n",
              "    <tr>\n",
              "      <th>count</th>\n",
              "      <td>10.00000</td>\n",
              "      <td>10.000000</td>\n",
              "    </tr>\n",
              "    <tr>\n",
              "      <th>mean</th>\n",
              "      <td>105.50000</td>\n",
              "      <td>17.600000</td>\n",
              "    </tr>\n",
              "    <tr>\n",
              "      <th>std</th>\n",
              "      <td>3.02765</td>\n",
              "      <td>20.576146</td>\n",
              "    </tr>\n",
              "    <tr>\n",
              "      <th>min</th>\n",
              "      <td>101.00000</td>\n",
              "      <td>-10.000000</td>\n",
              "    </tr>\n",
              "    <tr>\n",
              "      <th>25%</th>\n",
              "      <td>103.25000</td>\n",
              "      <td>5.250000</td>\n",
              "    </tr>\n",
              "    <tr>\n",
              "      <th>50%</th>\n",
              "      <td>105.50000</td>\n",
              "      <td>15.500000</td>\n",
              "    </tr>\n",
              "    <tr>\n",
              "      <th>75%</th>\n",
              "      <td>107.75000</td>\n",
              "      <td>20.000000</td>\n",
              "    </tr>\n",
              "    <tr>\n",
              "      <th>max</th>\n",
              "      <td>110.00000</td>\n",
              "      <td>65.000000</td>\n",
              "    </tr>\n",
              "  </tbody>\n",
              "</table>\n",
              "</div>"
            ],
            "text/plain": [
              "              id      money\n",
              "count   10.00000  10.000000\n",
              "mean   105.50000  17.600000\n",
              "std      3.02765  20.576146\n",
              "min    101.00000 -10.000000\n",
              "25%    103.25000   5.250000\n",
              "50%    105.50000  15.500000\n",
              "75%    107.75000  20.000000\n",
              "max    110.00000  65.000000"
            ]
          },
          "metadata": {
            "tags": []
          },
          "execution_count": 6
        }
      ]
    },
    {
      "cell_type": "code",
      "metadata": {
        "id": "iDAh-PndawiV",
        "colab_type": "code",
        "colab": {
          "base_uri": "https://localhost:8080/",
          "height": 138
        },
        "outputId": "95399000-c7ba-4be2-e7a3-1e9c90a1f007"
      },
      "source": [
        "#查看某一列的唯一值\n",
        "for i in data:\n",
        "  print(i +\":\" + str(data[i].unique()))"
      ],
      "execution_count": 7,
      "outputs": [
        {
          "output_type": "stream",
          "text": [
            "id:[101 102 103 104 105 106 107 108 109 110]\n",
            "date:['2020-03-10' '2020-03-11' '2020-03-12' '2020-03-13' '2020-03-14'\n",
            " '2020-03-15' '2020-03-16' '2020-03-17' '2020-03-18' '2020-03-19']\n",
            "money:[  5   4  65 -10  15  20  35  16   6]\n",
            "department:['饮料' '零食' '调味品' '水果' nan '日用品' '蔬菜']\n",
            "product:['苏打水' '可乐' '牛肉干' '老干妈' '菠萝' '冰激凌' '洗面奶' '洋葱' '牙膏' '薯片']\n",
            "origin:['China' 'US' 'Thailand' 'us' 'Japan']\n"
          ],
          "name": "stdout"
        }
      ]
    },
    {
      "cell_type": "code",
      "metadata": {
        "id": "UZbHYt25awls",
        "colab_type": "code",
        "colab": {
          "base_uri": "https://localhost:8080/",
          "height": 207
        },
        "outputId": "b3d5d45b-328f-4366-92aa-639968d8ad93"
      },
      "source": [
        "data.isnull()\n",
        "data['department'].isnull()"
      ],
      "execution_count": 8,
      "outputs": [
        {
          "output_type": "execute_result",
          "data": {
            "text/plain": [
              "0    False\n",
              "1    False\n",
              "2    False\n",
              "3    False\n",
              "4    False\n",
              "5     True\n",
              "6    False\n",
              "7    False\n",
              "8    False\n",
              "9    False\n",
              "Name: department, dtype: bool"
            ]
          },
          "metadata": {
            "tags": []
          },
          "execution_count": 8
        }
      ]
    },
    {
      "cell_type": "code",
      "metadata": {
        "id": "o9wQ_VcAawo2",
        "colab_type": "code",
        "colab": {
          "base_uri": "https://localhost:8080/",
          "height": 138
        },
        "outputId": "52f285c2-99b5-4583-efcc-572c153ec971"
      },
      "source": [
        "data.isnull().sum().sort_values(ascending = False)"
      ],
      "execution_count": 9,
      "outputs": [
        {
          "output_type": "execute_result",
          "data": {
            "text/plain": [
              "department    1\n",
              "origin        0\n",
              "product       0\n",
              "money         0\n",
              "date          0\n",
              "id            0\n",
              "dtype: int64"
            ]
          },
          "metadata": {
            "tags": []
          },
          "execution_count": 9
        }
      ]
    },
    {
      "cell_type": "code",
      "metadata": {
        "id": "rqINypLQawr5",
        "colab_type": "code",
        "colab": {
          "base_uri": "https://localhost:8080/",
          "height": 355
        },
        "outputId": "aff35a86-4d2a-41a8-e64f-9af14dcd3571"
      },
      "source": [
        "data.sort_values(by='money', ascending=False)"
      ],
      "execution_count": 10,
      "outputs": [
        {
          "output_type": "execute_result",
          "data": {
            "text/html": [
              "<div>\n",
              "<style scoped>\n",
              "    .dataframe tbody tr th:only-of-type {\n",
              "        vertical-align: middle;\n",
              "    }\n",
              "\n",
              "    .dataframe tbody tr th {\n",
              "        vertical-align: top;\n",
              "    }\n",
              "\n",
              "    .dataframe thead th {\n",
              "        text-align: right;\n",
              "    }\n",
              "</style>\n",
              "<table border=\"1\" class=\"dataframe\">\n",
              "  <thead>\n",
              "    <tr style=\"text-align: right;\">\n",
              "      <th></th>\n",
              "      <th>id</th>\n",
              "      <th>date</th>\n",
              "      <th>money</th>\n",
              "      <th>department</th>\n",
              "      <th>product</th>\n",
              "      <th>origin</th>\n",
              "    </tr>\n",
              "  </thead>\n",
              "  <tbody>\n",
              "    <tr>\n",
              "      <th>2</th>\n",
              "      <td>103</td>\n",
              "      <td>2020-03-12</td>\n",
              "      <td>65</td>\n",
              "      <td>零食</td>\n",
              "      <td>牛肉干</td>\n",
              "      <td>US</td>\n",
              "    </tr>\n",
              "    <tr>\n",
              "      <th>6</th>\n",
              "      <td>107</td>\n",
              "      <td>2020-03-16</td>\n",
              "      <td>35</td>\n",
              "      <td>日用品</td>\n",
              "      <td>洗面奶</td>\n",
              "      <td>us</td>\n",
              "    </tr>\n",
              "    <tr>\n",
              "      <th>5</th>\n",
              "      <td>106</td>\n",
              "      <td>2020-03-15</td>\n",
              "      <td>20</td>\n",
              "      <td>NaN</td>\n",
              "      <td>冰激凌</td>\n",
              "      <td>China</td>\n",
              "    </tr>\n",
              "    <tr>\n",
              "      <th>9</th>\n",
              "      <td>110</td>\n",
              "      <td>2020-03-19</td>\n",
              "      <td>20</td>\n",
              "      <td>零食</td>\n",
              "      <td>薯片</td>\n",
              "      <td>Japan</td>\n",
              "    </tr>\n",
              "    <tr>\n",
              "      <th>7</th>\n",
              "      <td>108</td>\n",
              "      <td>2020-03-17</td>\n",
              "      <td>16</td>\n",
              "      <td>蔬菜</td>\n",
              "      <td>洋葱</td>\n",
              "      <td>China</td>\n",
              "    </tr>\n",
              "    <tr>\n",
              "      <th>4</th>\n",
              "      <td>105</td>\n",
              "      <td>2020-03-14</td>\n",
              "      <td>15</td>\n",
              "      <td>水果</td>\n",
              "      <td>菠萝</td>\n",
              "      <td>Thailand</td>\n",
              "    </tr>\n",
              "    <tr>\n",
              "      <th>8</th>\n",
              "      <td>109</td>\n",
              "      <td>2020-03-18</td>\n",
              "      <td>6</td>\n",
              "      <td>日用品</td>\n",
              "      <td>牙膏</td>\n",
              "      <td>China</td>\n",
              "    </tr>\n",
              "    <tr>\n",
              "      <th>0</th>\n",
              "      <td>101</td>\n",
              "      <td>2020-03-10</td>\n",
              "      <td>5</td>\n",
              "      <td>饮料</td>\n",
              "      <td>苏打水</td>\n",
              "      <td>China</td>\n",
              "    </tr>\n",
              "    <tr>\n",
              "      <th>1</th>\n",
              "      <td>102</td>\n",
              "      <td>2020-03-11</td>\n",
              "      <td>4</td>\n",
              "      <td>饮料</td>\n",
              "      <td>可乐</td>\n",
              "      <td>China</td>\n",
              "    </tr>\n",
              "    <tr>\n",
              "      <th>3</th>\n",
              "      <td>104</td>\n",
              "      <td>2020-03-13</td>\n",
              "      <td>-10</td>\n",
              "      <td>调味品</td>\n",
              "      <td>老干妈</td>\n",
              "      <td>China</td>\n",
              "    </tr>\n",
              "  </tbody>\n",
              "</table>\n",
              "</div>"
            ],
            "text/plain": [
              "    id        date  money department product    origin\n",
              "2  103  2020-03-12     65         零食     牛肉干        US\n",
              "6  107  2020-03-16     35        日用品     洗面奶        us\n",
              "5  106  2020-03-15     20        NaN     冰激凌     China\n",
              "9  110  2020-03-19     20         零食      薯片     Japan\n",
              "7  108  2020-03-17     16         蔬菜      洋葱     China\n",
              "4  105  2020-03-14     15         水果      菠萝  Thailand\n",
              "8  109  2020-03-18      6        日用品      牙膏     China\n",
              "0  101  2020-03-10      5         饮料     苏打水     China\n",
              "1  102  2020-03-11      4         饮料      可乐     China\n",
              "3  104  2020-03-13    -10        调味品     老干妈     China"
            ]
          },
          "metadata": {
            "tags": []
          },
          "execution_count": 10
        }
      ]
    },
    {
      "cell_type": "markdown",
      "metadata": {
        "id": "GUELSgfDd4Bw",
        "colab_type": "text"
      },
      "source": [
        "**空值处理**\n",
        "\n",
        "pandas.DataFrame.fillna（value = None，method = None，inplace = False）\n",
        "\n",
        "value：用于填充的值，可以是具体值、字典和数组，不能是列表；\n",
        "\n",
        "method：填充方法，有 ffill 和 bfill 等；\n",
        "\n",
        "inplace默认无False，如果为True，则将修改此对象上的所有其他视图。"
      ]
    },
    {
      "cell_type": "code",
      "metadata": {
        "id": "KaOqGwVndDVf",
        "colab_type": "code",
        "colab": {}
      },
      "source": [
        "data['department'].fillna(method = 'ffill') # 向上填充\n",
        "data['department'].fillna(method = 'bfill')\n",
        "data['department'].fillna(value='冷冻食品', inplace=True) #替换为具体值，并在原对象上修改"
      ],
      "execution_count": 0,
      "outputs": []
    },
    {
      "cell_type": "code",
      "metadata": {
        "id": "mYIPf7zodDce",
        "colab_type": "code",
        "colab": {
          "base_uri": "https://localhost:8080/",
          "height": 207
        },
        "outputId": "b10d2459-1800-4dcc-fe4c-214bc2cdaa69"
      },
      "source": [
        "#空格处理，只针对object类型数据\n",
        "for i in data:\n",
        "  if pd.api.types.is_object_dtype(data[i]):\n",
        "    data[i]= data[i].str.strip() #去空格\n",
        "\n",
        "\n",
        "data['origin'].unique  #验证"
      ],
      "execution_count": 12,
      "outputs": [
        {
          "output_type": "execute_result",
          "data": {
            "text/plain": [
              "<bound method Series.unique of 0       China\n",
              "1       China\n",
              "2          US\n",
              "3       China\n",
              "4    Thailand\n",
              "5       China\n",
              "6          us\n",
              "7       China\n",
              "8       China\n",
              "9       Japan\n",
              "Name: origin, dtype: object>"
            ]
          },
          "metadata": {
            "tags": []
          },
          "execution_count": 12
        }
      ]
    },
    {
      "cell_type": "code",
      "metadata": {
        "id": "BqQ44JQZgcHk",
        "colab_type": "code",
        "colab": {
          "base_uri": "https://localhost:8080/",
          "height": 207
        },
        "outputId": "96211d20-de4e-4f0f-e265-5441d88b2920"
      },
      "source": [
        "#首字母大写\n",
        "data['origin'].str.title() \n",
        "data['origin'].str.capitalize()\n",
        "data['origin'].str.upper() #全部大写"
      ],
      "execution_count": 13,
      "outputs": [
        {
          "output_type": "execute_result",
          "data": {
            "text/plain": [
              "0       CHINA\n",
              "1       CHINA\n",
              "2          US\n",
              "3       CHINA\n",
              "4    THAILAND\n",
              "5       CHINA\n",
              "6          US\n",
              "7       CHINA\n",
              "8       CHINA\n",
              "9       JAPAN\n",
              "Name: origin, dtype: object"
            ]
          },
          "metadata": {
            "tags": []
          },
          "execution_count": 13
        }
      ]
    },
    {
      "cell_type": "code",
      "metadata": {
        "id": "E2ztwdCfgcLW",
        "colab_type": "code",
        "colab": {
          "base_uri": "https://localhost:8080/",
          "height": 207
        },
        "outputId": "96f32c4c-edba-4451-d894-12ffd423d8b9"
      },
      "source": [
        "data['origin'].str.lower() #全部小写"
      ],
      "execution_count": 14,
      "outputs": [
        {
          "output_type": "execute_result",
          "data": {
            "text/plain": [
              "0       china\n",
              "1       china\n",
              "2          us\n",
              "3       china\n",
              "4    thailand\n",
              "5       china\n",
              "6          us\n",
              "7       china\n",
              "8       china\n",
              "9       japan\n",
              "Name: origin, dtype: object"
            ]
          },
          "metadata": {
            "tags": []
          },
          "execution_count": 14
        }
      ]
    },
    {
      "cell_type": "code",
      "metadata": {
        "id": "5JwIGGkygcOp",
        "colab_type": "code",
        "colab": {}
      },
      "source": [
        "#先替换后大小写，先大小写后替换结果不一样\n",
        "data['origin'].replace('us', 'US', inplace=True)"
      ],
      "execution_count": 0,
      "outputs": []
    },
    {
      "cell_type": "code",
      "metadata": {
        "id": "UVKnKg1Ji0eQ",
        "colab_type": "code",
        "colab": {
          "base_uri": "https://localhost:8080/",
          "height": 207
        },
        "outputId": "9741fbdd-ff3b-4c1f-d154-1d3001aaa607"
      },
      "source": [
        "data['origin']"
      ],
      "execution_count": 16,
      "outputs": [
        {
          "output_type": "execute_result",
          "data": {
            "text/plain": [
              "0       China\n",
              "1       China\n",
              "2          US\n",
              "3       China\n",
              "4    Thailand\n",
              "5       China\n",
              "6          US\n",
              "7       China\n",
              "8       China\n",
              "9       Japan\n",
              "Name: origin, dtype: object"
            ]
          },
          "metadata": {
            "tags": []
          },
          "execution_count": 16
        }
      ]
    },
    {
      "cell_type": "code",
      "metadata": {
        "id": "4CCcVpqGi0iJ",
        "colab_type": "code",
        "colab": {
          "base_uri": "https://localhost:8080/",
          "height": 207
        },
        "outputId": "91b84b74-892a-41dc-9bda-8885a1051009"
      },
      "source": [
        "data['money'].replace(-10, np.nan, inplace = True)\n",
        "data['money'].replace(np.nan, data['money'].mean(), inplace= True)\n",
        "data['money']"
      ],
      "execution_count": 17,
      "outputs": [
        {
          "output_type": "execute_result",
          "data": {
            "text/plain": [
              "0     5.000000\n",
              "1     4.000000\n",
              "2    65.000000\n",
              "3    20.666667\n",
              "4    15.000000\n",
              "5    20.000000\n",
              "6    35.000000\n",
              "7    16.000000\n",
              "8     6.000000\n",
              "9    20.000000\n",
              "Name: money, dtype: float64"
            ]
          },
          "metadata": {
            "tags": []
          },
          "execution_count": 17
        }
      ]
    },
    {
      "cell_type": "code",
      "metadata": {
        "id": "7bo2f0EZi0l0",
        "colab_type": "code",
        "colab": {
          "base_uri": "https://localhost:8080/",
          "height": 294
        },
        "outputId": "4626b4fa-7fa7-4ee4-febf-aa18b1918709"
      },
      "source": [
        "data1 = data[data.origin != 'US'] #去掉origin为us的行 /方法1\n",
        "data1"
      ],
      "execution_count": 18,
      "outputs": [
        {
          "output_type": "execute_result",
          "data": {
            "text/html": [
              "<div>\n",
              "<style scoped>\n",
              "    .dataframe tbody tr th:only-of-type {\n",
              "        vertical-align: middle;\n",
              "    }\n",
              "\n",
              "    .dataframe tbody tr th {\n",
              "        vertical-align: top;\n",
              "    }\n",
              "\n",
              "    .dataframe thead th {\n",
              "        text-align: right;\n",
              "    }\n",
              "</style>\n",
              "<table border=\"1\" class=\"dataframe\">\n",
              "  <thead>\n",
              "    <tr style=\"text-align: right;\">\n",
              "      <th></th>\n",
              "      <th>id</th>\n",
              "      <th>date</th>\n",
              "      <th>money</th>\n",
              "      <th>department</th>\n",
              "      <th>product</th>\n",
              "      <th>origin</th>\n",
              "    </tr>\n",
              "  </thead>\n",
              "  <tbody>\n",
              "    <tr>\n",
              "      <th>0</th>\n",
              "      <td>101</td>\n",
              "      <td>2020-03-10</td>\n",
              "      <td>5.000000</td>\n",
              "      <td>饮料</td>\n",
              "      <td>苏打水</td>\n",
              "      <td>China</td>\n",
              "    </tr>\n",
              "    <tr>\n",
              "      <th>1</th>\n",
              "      <td>102</td>\n",
              "      <td>2020-03-11</td>\n",
              "      <td>4.000000</td>\n",
              "      <td>饮料</td>\n",
              "      <td>可乐</td>\n",
              "      <td>China</td>\n",
              "    </tr>\n",
              "    <tr>\n",
              "      <th>3</th>\n",
              "      <td>104</td>\n",
              "      <td>2020-03-13</td>\n",
              "      <td>20.666667</td>\n",
              "      <td>调味品</td>\n",
              "      <td>老干妈</td>\n",
              "      <td>China</td>\n",
              "    </tr>\n",
              "    <tr>\n",
              "      <th>4</th>\n",
              "      <td>105</td>\n",
              "      <td>2020-03-14</td>\n",
              "      <td>15.000000</td>\n",
              "      <td>水果</td>\n",
              "      <td>菠萝</td>\n",
              "      <td>Thailand</td>\n",
              "    </tr>\n",
              "    <tr>\n",
              "      <th>5</th>\n",
              "      <td>106</td>\n",
              "      <td>2020-03-15</td>\n",
              "      <td>20.000000</td>\n",
              "      <td>冷冻食品</td>\n",
              "      <td>冰激凌</td>\n",
              "      <td>China</td>\n",
              "    </tr>\n",
              "    <tr>\n",
              "      <th>7</th>\n",
              "      <td>108</td>\n",
              "      <td>2020-03-17</td>\n",
              "      <td>16.000000</td>\n",
              "      <td>蔬菜</td>\n",
              "      <td>洋葱</td>\n",
              "      <td>China</td>\n",
              "    </tr>\n",
              "    <tr>\n",
              "      <th>8</th>\n",
              "      <td>109</td>\n",
              "      <td>2020-03-18</td>\n",
              "      <td>6.000000</td>\n",
              "      <td>日用品</td>\n",
              "      <td>牙膏</td>\n",
              "      <td>China</td>\n",
              "    </tr>\n",
              "    <tr>\n",
              "      <th>9</th>\n",
              "      <td>110</td>\n",
              "      <td>2020-03-19</td>\n",
              "      <td>20.000000</td>\n",
              "      <td>零食</td>\n",
              "      <td>薯片</td>\n",
              "      <td>Japan</td>\n",
              "    </tr>\n",
              "  </tbody>\n",
              "</table>\n",
              "</div>"
            ],
            "text/plain": [
              "    id        date      money department product    origin\n",
              "0  101  2020-03-10   5.000000         饮料     苏打水     China\n",
              "1  102  2020-03-11   4.000000         饮料      可乐     China\n",
              "3  104  2020-03-13  20.666667        调味品     老干妈     China\n",
              "4  105  2020-03-14  15.000000         水果      菠萝  Thailand\n",
              "5  106  2020-03-15  20.000000       冷冻食品     冰激凌     China\n",
              "7  108  2020-03-17  16.000000         蔬菜      洋葱     China\n",
              "8  109  2020-03-18   6.000000        日用品      牙膏     China\n",
              "9  110  2020-03-19  20.000000         零食      薯片     Japan"
            ]
          },
          "metadata": {
            "tags": []
          },
          "execution_count": 18
        }
      ]
    },
    {
      "cell_type": "code",
      "metadata": {
        "id": "nrieQVhAi0pr",
        "colab_type": "code",
        "colab": {
          "base_uri": "https://localhost:8080/",
          "height": 359
        },
        "outputId": "582f9b06-bbc5-4201-f8e3-f926c4c401af"
      },
      "source": [
        "data2 = data[(data != 'Japan').all(1)] #去掉所有包含japan的行/不等于Japan的行为真，则返回 /方法2\n",
        "data2"
      ],
      "execution_count": 19,
      "outputs": [
        {
          "output_type": "stream",
          "text": [
            "/usr/local/lib/python3.6/dist-packages/pandas/core/ops/array_ops.py:253: FutureWarning: elementwise comparison failed; returning scalar instead, but in the future will perform elementwise comparison\n",
            "  res_values = method(rvalues)\n"
          ],
          "name": "stderr"
        },
        {
          "output_type": "execute_result",
          "data": {
            "text/html": [
              "<div>\n",
              "<style scoped>\n",
              "    .dataframe tbody tr th:only-of-type {\n",
              "        vertical-align: middle;\n",
              "    }\n",
              "\n",
              "    .dataframe tbody tr th {\n",
              "        vertical-align: top;\n",
              "    }\n",
              "\n",
              "    .dataframe thead th {\n",
              "        text-align: right;\n",
              "    }\n",
              "</style>\n",
              "<table border=\"1\" class=\"dataframe\">\n",
              "  <thead>\n",
              "    <tr style=\"text-align: right;\">\n",
              "      <th></th>\n",
              "      <th>id</th>\n",
              "      <th>date</th>\n",
              "      <th>money</th>\n",
              "      <th>department</th>\n",
              "      <th>product</th>\n",
              "      <th>origin</th>\n",
              "    </tr>\n",
              "  </thead>\n",
              "  <tbody>\n",
              "    <tr>\n",
              "      <th>0</th>\n",
              "      <td>101</td>\n",
              "      <td>2020-03-10</td>\n",
              "      <td>5.000000</td>\n",
              "      <td>饮料</td>\n",
              "      <td>苏打水</td>\n",
              "      <td>China</td>\n",
              "    </tr>\n",
              "    <tr>\n",
              "      <th>1</th>\n",
              "      <td>102</td>\n",
              "      <td>2020-03-11</td>\n",
              "      <td>4.000000</td>\n",
              "      <td>饮料</td>\n",
              "      <td>可乐</td>\n",
              "      <td>China</td>\n",
              "    </tr>\n",
              "    <tr>\n",
              "      <th>2</th>\n",
              "      <td>103</td>\n",
              "      <td>2020-03-12</td>\n",
              "      <td>65.000000</td>\n",
              "      <td>零食</td>\n",
              "      <td>牛肉干</td>\n",
              "      <td>US</td>\n",
              "    </tr>\n",
              "    <tr>\n",
              "      <th>3</th>\n",
              "      <td>104</td>\n",
              "      <td>2020-03-13</td>\n",
              "      <td>20.666667</td>\n",
              "      <td>调味品</td>\n",
              "      <td>老干妈</td>\n",
              "      <td>China</td>\n",
              "    </tr>\n",
              "    <tr>\n",
              "      <th>4</th>\n",
              "      <td>105</td>\n",
              "      <td>2020-03-14</td>\n",
              "      <td>15.000000</td>\n",
              "      <td>水果</td>\n",
              "      <td>菠萝</td>\n",
              "      <td>Thailand</td>\n",
              "    </tr>\n",
              "    <tr>\n",
              "      <th>5</th>\n",
              "      <td>106</td>\n",
              "      <td>2020-03-15</td>\n",
              "      <td>20.000000</td>\n",
              "      <td>冷冻食品</td>\n",
              "      <td>冰激凌</td>\n",
              "      <td>China</td>\n",
              "    </tr>\n",
              "    <tr>\n",
              "      <th>6</th>\n",
              "      <td>107</td>\n",
              "      <td>2020-03-16</td>\n",
              "      <td>35.000000</td>\n",
              "      <td>日用品</td>\n",
              "      <td>洗面奶</td>\n",
              "      <td>US</td>\n",
              "    </tr>\n",
              "    <tr>\n",
              "      <th>7</th>\n",
              "      <td>108</td>\n",
              "      <td>2020-03-17</td>\n",
              "      <td>16.000000</td>\n",
              "      <td>蔬菜</td>\n",
              "      <td>洋葱</td>\n",
              "      <td>China</td>\n",
              "    </tr>\n",
              "    <tr>\n",
              "      <th>8</th>\n",
              "      <td>109</td>\n",
              "      <td>2020-03-18</td>\n",
              "      <td>6.000000</td>\n",
              "      <td>日用品</td>\n",
              "      <td>牙膏</td>\n",
              "      <td>China</td>\n",
              "    </tr>\n",
              "  </tbody>\n",
              "</table>\n",
              "</div>"
            ],
            "text/plain": [
              "    id        date      money department product    origin\n",
              "0  101  2020-03-10   5.000000         饮料     苏打水     China\n",
              "1  102  2020-03-11   4.000000         饮料      可乐     China\n",
              "2  103  2020-03-12  65.000000         零食     牛肉干        US\n",
              "3  104  2020-03-13  20.666667        调味品     老干妈     China\n",
              "4  105  2020-03-14  15.000000         水果      菠萝  Thailand\n",
              "5  106  2020-03-15  20.000000       冷冻食品     冰激凌     China\n",
              "6  107  2020-03-16  35.000000        日用品     洗面奶        US\n",
              "7  108  2020-03-17  16.000000         蔬菜      洋葱     China\n",
              "8  109  2020-03-18   6.000000        日用品      牙膏     China"
            ]
          },
          "metadata": {
            "tags": []
          },
          "execution_count": 19
        }
      ]
    },
    {
      "cell_type": "code",
      "metadata": {
        "id": "xmDI0GaTJftH",
        "colab_type": "code",
        "colab": {
          "base_uri": "https://localhost:8080/",
          "height": 103
        },
        "outputId": "0df99d1e-827a-48da-bad9-09c61100d9dc"
      },
      "source": [
        "data['origin'].drop_duplicates() #默认删除后面出现的重复值，既保留第一次出现的重复值"
      ],
      "execution_count": 24,
      "outputs": [
        {
          "output_type": "execute_result",
          "data": {
            "text/plain": [
              "0       China\n",
              "2          US\n",
              "4    Thailand\n",
              "9       Japan\n",
              "Name: origin, dtype: object"
            ]
          },
          "metadata": {
            "tags": []
          },
          "execution_count": 24
        }
      ]
    },
    {
      "cell_type": "code",
      "metadata": {
        "id": "L0etqiIPJfwX",
        "colab_type": "code",
        "colab": {
          "base_uri": "https://localhost:8080/",
          "height": 103
        },
        "outputId": "a779ba60-6da6-418b-cbd6-2fbddb08317c"
      },
      "source": [
        "data['origin'].drop_duplicates(keep = 'last') #保留最后一次出现的重复值"
      ],
      "execution_count": 25,
      "outputs": [
        {
          "output_type": "execute_result",
          "data": {
            "text/plain": [
              "4    Thailand\n",
              "6          US\n",
              "8       China\n",
              "9       Japan\n",
              "Name: origin, dtype: object"
            ]
          },
          "metadata": {
            "tags": []
          },
          "execution_count": 25
        }
      ]
    },
    {
      "cell_type": "code",
      "metadata": {
        "id": "TRu6I5DZJfze",
        "colab_type": "code",
        "colab": {
          "base_uri": "https://localhost:8080/",
          "height": 207
        },
        "outputId": "c3b32114-3215-456e-fde8-c1a6c8cc3d1c"
      },
      "source": [
        "data['id'].astype('str')  #将id列的类型转换为字符串类型"
      ],
      "execution_count": 28,
      "outputs": [
        {
          "output_type": "execute_result",
          "data": {
            "text/plain": [
              "0    101\n",
              "1    102\n",
              "2    103\n",
              "3    104\n",
              "4    105\n",
              "5    106\n",
              "6    107\n",
              "7    108\n",
              "8    109\n",
              "9    110\n",
              "Name: id, dtype: object"
            ]
          },
          "metadata": {
            "tags": []
          },
          "execution_count": 28
        }
      ]
    },
    {
      "cell_type": "code",
      "metadata": {
        "id": "jtPyRZ4JJf21",
        "colab_type": "code",
        "colab": {
          "base_uri": "https://localhost:8080/",
          "height": 355
        },
        "outputId": "4bade960-deeb-4ae1-c0f1-4577a873529b"
      },
      "source": [
        "data.rename(columns={'id': 'ID', 'origin':' 产地'}) "
      ],
      "execution_count": 29,
      "outputs": [
        {
          "output_type": "execute_result",
          "data": {
            "text/html": [
              "<div>\n",
              "<style scoped>\n",
              "    .dataframe tbody tr th:only-of-type {\n",
              "        vertical-align: middle;\n",
              "    }\n",
              "\n",
              "    .dataframe tbody tr th {\n",
              "        vertical-align: top;\n",
              "    }\n",
              "\n",
              "    .dataframe thead th {\n",
              "        text-align: right;\n",
              "    }\n",
              "</style>\n",
              "<table border=\"1\" class=\"dataframe\">\n",
              "  <thead>\n",
              "    <tr style=\"text-align: right;\">\n",
              "      <th></th>\n",
              "      <th>ID</th>\n",
              "      <th>date</th>\n",
              "      <th>money</th>\n",
              "      <th>department</th>\n",
              "      <th>product</th>\n",
              "      <th>产地</th>\n",
              "    </tr>\n",
              "  </thead>\n",
              "  <tbody>\n",
              "    <tr>\n",
              "      <th>0</th>\n",
              "      <td>101</td>\n",
              "      <td>2020-03-10</td>\n",
              "      <td>5.000000</td>\n",
              "      <td>饮料</td>\n",
              "      <td>苏打水</td>\n",
              "      <td>China</td>\n",
              "    </tr>\n",
              "    <tr>\n",
              "      <th>1</th>\n",
              "      <td>102</td>\n",
              "      <td>2020-03-11</td>\n",
              "      <td>4.000000</td>\n",
              "      <td>饮料</td>\n",
              "      <td>可乐</td>\n",
              "      <td>China</td>\n",
              "    </tr>\n",
              "    <tr>\n",
              "      <th>2</th>\n",
              "      <td>103</td>\n",
              "      <td>2020-03-12</td>\n",
              "      <td>65.000000</td>\n",
              "      <td>零食</td>\n",
              "      <td>牛肉干</td>\n",
              "      <td>US</td>\n",
              "    </tr>\n",
              "    <tr>\n",
              "      <th>3</th>\n",
              "      <td>104</td>\n",
              "      <td>2020-03-13</td>\n",
              "      <td>20.666667</td>\n",
              "      <td>调味品</td>\n",
              "      <td>老干妈</td>\n",
              "      <td>China</td>\n",
              "    </tr>\n",
              "    <tr>\n",
              "      <th>4</th>\n",
              "      <td>105</td>\n",
              "      <td>2020-03-14</td>\n",
              "      <td>15.000000</td>\n",
              "      <td>水果</td>\n",
              "      <td>菠萝</td>\n",
              "      <td>Thailand</td>\n",
              "    </tr>\n",
              "    <tr>\n",
              "      <th>5</th>\n",
              "      <td>106</td>\n",
              "      <td>2020-03-15</td>\n",
              "      <td>20.000000</td>\n",
              "      <td>冷冻食品</td>\n",
              "      <td>冰激凌</td>\n",
              "      <td>China</td>\n",
              "    </tr>\n",
              "    <tr>\n",
              "      <th>6</th>\n",
              "      <td>107</td>\n",
              "      <td>2020-03-16</td>\n",
              "      <td>35.000000</td>\n",
              "      <td>日用品</td>\n",
              "      <td>洗面奶</td>\n",
              "      <td>US</td>\n",
              "    </tr>\n",
              "    <tr>\n",
              "      <th>7</th>\n",
              "      <td>108</td>\n",
              "      <td>2020-03-17</td>\n",
              "      <td>16.000000</td>\n",
              "      <td>蔬菜</td>\n",
              "      <td>洋葱</td>\n",
              "      <td>China</td>\n",
              "    </tr>\n",
              "    <tr>\n",
              "      <th>8</th>\n",
              "      <td>109</td>\n",
              "      <td>2020-03-18</td>\n",
              "      <td>6.000000</td>\n",
              "      <td>日用品</td>\n",
              "      <td>牙膏</td>\n",
              "      <td>China</td>\n",
              "    </tr>\n",
              "    <tr>\n",
              "      <th>9</th>\n",
              "      <td>110</td>\n",
              "      <td>2020-03-19</td>\n",
              "      <td>20.000000</td>\n",
              "      <td>零食</td>\n",
              "      <td>薯片</td>\n",
              "      <td>Japan</td>\n",
              "    </tr>\n",
              "  </tbody>\n",
              "</table>\n",
              "</div>"
            ],
            "text/plain": [
              "    ID        date      money department product        产地\n",
              "0  101  2020-03-10   5.000000         饮料     苏打水     China\n",
              "1  102  2020-03-11   4.000000         饮料      可乐     China\n",
              "2  103  2020-03-12  65.000000         零食     牛肉干        US\n",
              "3  104  2020-03-13  20.666667        调味品     老干妈     China\n",
              "4  105  2020-03-14  15.000000         水果      菠萝  Thailand\n",
              "5  106  2020-03-15  20.000000       冷冻食品     冰激凌     China\n",
              "6  107  2020-03-16  35.000000        日用品     洗面奶        US\n",
              "7  108  2020-03-17  16.000000         蔬菜      洋葱     China\n",
              "8  109  2020-03-18   6.000000        日用品      牙膏     China\n",
              "9  110  2020-03-19  20.000000         零食      薯片     Japan"
            ]
          },
          "metadata": {
            "tags": []
          },
          "execution_count": 29
        }
      ]
    },
    {
      "cell_type": "code",
      "metadata": {
        "id": "owj6U5-FldDO",
        "colab_type": "code",
        "colab": {}
      },
      "source": [
        ""
      ],
      "execution_count": 0,
      "outputs": []
    },
    {
      "cell_type": "code",
      "metadata": {
        "id": "YIZDXD9xldGu",
        "colab_type": "code",
        "colab": {}
      },
      "source": [
        ""
      ],
      "execution_count": 0,
      "outputs": []
    },
    {
      "cell_type": "code",
      "metadata": {
        "id": "sMeFE8weldJ0",
        "colab_type": "code",
        "colab": {}
      },
      "source": [
        ""
      ],
      "execution_count": 0,
      "outputs": []
    },
    {
      "cell_type": "code",
      "metadata": {
        "id": "0tmlrblagcSA",
        "colab_type": "code",
        "colab": {}
      },
      "source": [
        ""
      ],
      "execution_count": 0,
      "outputs": []
    },
    {
      "cell_type": "code",
      "metadata": {
        "id": "usWbC-54dDfc",
        "colab_type": "code",
        "colab": {}
      },
      "source": [
        ""
      ],
      "execution_count": 0,
      "outputs": []
    }
  ]
}
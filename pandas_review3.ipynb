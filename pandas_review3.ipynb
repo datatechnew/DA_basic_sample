{
  "nbformat": 4,
  "nbformat_minor": 0,
  "metadata": {
    "colab": {
      "name": "pandas_review3",
      "provenance": [],
      "authorship_tag": "ABX9TyNtzODXEZjyvgsxEuT0hsGN"
    },
    "kernelspec": {
      "name": "python3",
      "display_name": "Python 3"
    }
  },
  "cells": [
    {
      "cell_type": "code",
      "metadata": {
        "id": "ZwEFOfy-BAOk",
        "colab_type": "code",
        "colab": {}
      },
      "source": [
        "newc = d.columns.insert(4, '新增')"
      ],
      "execution_count": 0,
      "outputs": []
    },
    {
      "cell_type": "code",
      "metadata": {
        "id": "RVmQuNpsBAvT",
        "colab_type": "code",
        "colab": {}
      },
      "source": [
        "newd = d.reindex(columns = newc, fill_value = 200)"
      ],
      "execution_count": 0,
      "outputs": []
    },
    {
      "cell_type": "markdown",
      "metadata": {
        "id": "4tE5IUn-EH3w",
        "colab_type": "text"
      },
      "source": [
        "**>索引类型常用方法**\n",
        "\n",
        ".append(idx) 连接另外一个Index对象，产生新的Index对象\n",
        "\n",
        ".diff(idx) 计算差集，产生新的Index对象\n",
        "\n",
        ".intersection（idx） 计算交集，产生新对象\n",
        "\n",
        ".union（idx） 计算并集\n",
        "\n",
        ".delete（loc） 删除loc位置处的元素\n",
        "\n",
        ".insert（loc, e） 在loc位置增加一各元素e"
      ]
    },
    {
      "cell_type": "markdown",
      "metadata": {
        "id": "wgg-Vk0JEIAL",
        "colab_type": "text"
      },
      "source": [
        "删除指定索引对象\n",
        ".drop()可删除Series或DataFrame制定的行或列\n",
        "\n",
        "d.drop([‘c1’, ‘c2’]) # 此处生成新对象，原对象d不改变\n",
        "\n",
        "d.drop(‘one’,axis=1) 要删除列，需要加上axis = 1."
      ]
    },
    {
      "cell_type": "markdown",
      "metadata": {
        "id": "6So0ra7BEID4",
        "colab_type": "text"
      },
      "source": [
        "**算术运算法则**\n",
        "\n",
        "根据行列索引进行运算，补齐（NaN）后运算，运算默认产生浮点数\n",
        "\n",
        "二维和一维、一维和零维时，采用广播运算，即低的于高的每一维运算\n",
        "\n",
        "算术运算方法形式的运算\n",
        "\n",
        ".add(d, **argws) .sub(d, **argws) .mul(d, **argws) .div(d, **argws)\n",
        "\n",
        "**argws为可选参数：\n",
        "\n",
        "fill_value，补齐时填充的值；\n",
        "\n",
        "广播运算时，一维的列默认作用到二维的行（axis=1），要更改到列，则需要增加参数\n",
        "\n",
        "a.add(b, axis=0 )"
      ]
    },
    {
      "cell_type": "markdown",
      "metadata": {
        "id": "f4G1fPQLJTVE",
        "colab_type": "text"
      },
      "source": [
        "**- 数据排序**\n",
        "\n",
        ".sort_index()方法在指定轴上根据索引进行排序，默认升序。\n",
        "\n",
        ".sort_index（axis=0,ascending = True） ascending是指递增排序\n",
        "\n",
        ".sort_values()方法在指定轴上根据数值进行排序，默认升序。\n",
        "\n",
        "Serier.sort_values(axis= 0, ascending=True)\n",
        "\n",
        "DataFrame.sort_values(by, axis = 0, ascending = True)\n",
        "\n",
        "by: 只对axis轴上的某个 索引 或 索引列表 进行排序"
      ]
    },
    {
      "cell_type": "markdown",
      "metadata": {
        "id": "QsWhzhrMJT3y",
        "colab_type": "text"
      },
      "source": [
        "- **Pandas统计分析函数**\n",
        "\n",
        ".sum() 计算数据总和，按0轴计算\n",
        "\n",
        ".count() 非NaN值的数量\n",
        "\n",
        ".mean() .median() 计算算术平均值、算术中位数\n",
        "\n",
        ".var() .var() 计算方差、标准差\n",
        "\n",
        ".min() .max 计算最小、大值\n",
        "\n",
        ".argmin() .argmax() 计算最大、小值所在位置的索引（针对自动索引的）（适用于Series类型：）\n",
        "\n",
        ".idxmin() .idxmax() 计算最大、小值所在位置的索引（针对自定义索引的）（适用于Series类型：）\n",
        "\n",
        ".describe() 针对0轴（各列）的统计汇总"
      ]
    },
    {
      "cell_type": "code",
      "metadata": {
        "id": "3NRVG6bRBA-l",
        "colab_type": "code",
        "colab": {}
      },
      "source": [
        ""
      ],
      "execution_count": 0,
      "outputs": []
    }
  ]
}